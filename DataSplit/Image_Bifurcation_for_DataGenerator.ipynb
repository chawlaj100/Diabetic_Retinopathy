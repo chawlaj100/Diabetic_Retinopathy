{
 "cells": [
  {
   "cell_type": "markdown",
   "metadata": {},
   "source": [
    "# Image Data Segmentation from CSV\n",
    "\n",
    "### This notebook consists of code that lets you segregate/segment the images from a common folder into different folders according to the class of a particular image from the annotations given in a CSV/Excel file.\n",
    "#### >> Tensorflow provides with an API called ImageDataGenerator that lets you create an automatic flow of image data to the neural network while training, validating as well as testing.\n",
    "#### >> ImageDataGenerator recognizes the image class by the folder name in which the image exists. So dividing images into their respective destination is very useful and makes the task easy, instead to read a seperate annotation of a particular image while training."
   ]
  },
  {
   "cell_type": "code",
   "execution_count": 1,
   "metadata": {},
   "outputs": [],
   "source": [
    "import os\n",
    "import random\n",
    "import cv2\n",
    "import matplotlib.pyplot as plt\n",
    "import shutil"
   ]
  },
  {
   "cell_type": "markdown",
   "metadata": {},
   "source": [
    "### Here 'aptos_2019' is a directory containing 3662 images in a single directory."
   ]
  },
  {
   "cell_type": "code",
   "execution_count": 2,
   "metadata": {},
   "outputs": [],
   "source": [
    "path = \"aptos_2019/\""
   ]
  },
  {
   "cell_type": "code",
   "execution_count": 3,
   "metadata": {},
   "outputs": [
    {
     "data": {
      "text/plain": [
       "3662"
      ]
     },
     "execution_count": 3,
     "metadata": {},
     "output_type": "execute_result"
    }
   ],
   "source": [
    "array = os.listdir(path)\n",
    "len(array)"
   ]
  },
  {
   "cell_type": "code",
   "execution_count": 4,
   "metadata": {},
   "outputs": [
    {
     "data": {
      "text/plain": [
       "662"
      ]
     },
     "execution_count": 4,
     "metadata": {},
     "output_type": "execute_result"
    }
   ],
   "source": [
    "# Shuffling helps you sample random images for the test set\n",
    "\n",
    "random.shuffle(array)\n",
    "test_array = random.sample(array, 662)\n",
    "len(test_array)"
   ]
  },
  {
   "cell_type": "code",
   "execution_count": 5,
   "metadata": {},
   "outputs": [
    {
     "data": {
      "text/plain": [
       "662"
      ]
     },
     "execution_count": 5,
     "metadata": {},
     "output_type": "execute_result"
    }
   ],
   "source": [
    "# We will remove the randomly rampled images from the training data to avoid redundancy\n",
    "\n",
    "temp = []\n",
    "for i in test_array:\n",
    "    if i not in temp:\n",
    "        temp.append(i)\n",
    "    else:\n",
    "        pass\n",
    "len(temp)"
   ]
  },
  {
   "cell_type": "code",
   "execution_count": 12,
   "metadata": {},
   "outputs": [],
   "source": [
    "for i in array:\n",
    "    if i in temp:\n",
    "        array.remove(i)"
   ]
  },
  {
   "cell_type": "code",
   "execution_count": 13,
   "metadata": {},
   "outputs": [
    {
     "data": {
      "text/plain": [
       "3000"
      ]
     },
     "execution_count": 13,
     "metadata": {},
     "output_type": "execute_result"
    }
   ],
   "source": [
    "len(array)"
   ]
  },
  {
   "cell_type": "markdown",
   "metadata": {},
   "source": [
    "### We have 5 classes and so we will make 5 seperate folders for training and testing sets both"
   ]
  },
  {
   "cell_type": "code",
   "execution_count": 19,
   "metadata": {},
   "outputs": [],
   "source": [
    "arr = [\"No_DR\",\"Mild\",\"Moderate\",\"Severe\",\"Proliferative\"]"
   ]
  },
  {
   "cell_type": "code",
   "execution_count": 16,
   "metadata": {},
   "outputs": [],
   "source": [
    "# os.mkdir(\"2019/train/\")\n",
    "# os.mkdir(\"2019/test/\")"
   ]
  },
  {
   "cell_type": "code",
   "execution_count": 23,
   "metadata": {},
   "outputs": [],
   "source": [
    "for i in arr:\n",
    "    os.mkdir(\"2019/train/\"+i)\n",
    "    os.mkdir(\"2019/test/\"+i)"
   ]
  },
  {
   "cell_type": "code",
   "execution_count": 20,
   "metadata": {},
   "outputs": [],
   "source": [
    "path_train = \"2019/train/\"\n",
    "path_test = \"2019/test/\""
   ]
  },
  {
   "cell_type": "markdown",
   "metadata": {},
   "source": [
    "### Here below is the code where we read the .csv annotation/label file and read every image's retinopathy grading. \n",
    "### Then accordingly we copy that image from source to destination folder according to our folder array"
   ]
  },
  {
   "cell_type": "code",
   "execution_count": 24,
   "metadata": {},
   "outputs": [],
   "source": [
    "num = 1\n",
    "with open(\"train_aptos.csv\") as file:\n",
    "    for row in file:\n",
    "        if num == 1:\n",
    "            pass\n",
    "        else:\n",
    "            index = row.split(\",\")\n",
    "            img = index[0] + \".png\"\n",
    "            if img in array:\n",
    "                shutil.copy(path+img, path_train+arr[int(index[1][:-1])])\n",
    "            else:\n",
    "                shutil.copy(path+img, path_test+arr[int(index[1][:-1])])\n",
    "        num += 1"
   ]
  },
  {
   "cell_type": "code",
   "execution_count": null,
   "metadata": {},
   "outputs": [],
   "source": []
  }
 ],
 "metadata": {
  "kernelspec": {
   "display_name": "Python 3",
   "language": "python",
   "name": "python3"
  },
  "language_info": {
   "codemirror_mode": {
    "name": "ipython",
    "version": 3
   },
   "file_extension": ".py",
   "mimetype": "text/x-python",
   "name": "python",
   "nbconvert_exporter": "python",
   "pygments_lexer": "ipython3",
   "version": "3.6.10"
  }
 },
 "nbformat": 4,
 "nbformat_minor": 4
}
